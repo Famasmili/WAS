{
  "cells": [
    {
      "cell_type": "markdown",
      "metadata": {
        "id": "view-in-github",
        "colab_type": "text"
      },
      "source": [
        "<a href=\"https://colab.research.google.com/github/Famasmili/WAS/blob/School_Work/Rb_IFT6135_A2_LSTM_LSTMv2.ipynb\" target=\"_parent\"><img src=\"https://colab.research.google.com/assets/colab-badge.svg\" alt=\"Open In Colab\"/></a>"
      ]
    },
    {
      "cell_type": "code",
      "execution_count": 2,
      "metadata": {
        "id": "_tbZlSEMRtQo"
      },
      "outputs": [],
      "source": [
        "'''\n",
        "All the imports\n",
        "'''\n",
        "\n",
        "import torch\n",
        "import numpy as np\n",
        "from torch import nn\n",
        "import torch.nn.functional as F\n",
        "import torch.optim as optim\n",
        "import logging\n",
        "import time\n",
        "import random\n",
        "import wandb\n",
        "import os"
      ]
    },
    {
      "cell_type": "markdown",
      "metadata": {
        "id": "1G5w7H7dRgoS"
      },
      "source": [
        "# Dataset Generator (Do not modify)"
      ]
    },
    {
      "cell_type": "code",
      "execution_count": 3,
      "metadata": {
        "id": "FDZHmmZ0Rn8x"
      },
      "outputs": [],
      "source": [
        "def torch_copying_data(\n",
        "    L,\n",
        "    M,\n",
        "    A,\n",
        "    batch_shape=(),\n",
        "):\n",
        "    \"\"\"\n",
        "    Generate a dataset for a selective copying task.\n",
        "\n",
        "    Parameters:\n",
        "    L (int): Number of noise tokens\n",
        "    M (int): Number of tokens to memorize\n",
        "    A (int): Vocab size\n",
        "    batch_shape (tuple): Shape of the batch\n",
        "\n",
        "\n",
        "    Returns:\n",
        "    tuple: Generated input sequence and target sequence\n",
        "    \"\"\"\n",
        "    tokens = torch.randint(low=1, high=A - 1, size=batch_shape + (M,))\n",
        "    total_batch = int(np.prod(batch_shape))\n",
        "    inds = torch.stack([torch.randperm(L + M)[:M] for _ in range(total_batch)], 0)\n",
        "    inds = inds.reshape(batch_shape + (M,))\n",
        "    inds, _ = inds.sort()\n",
        "    zeros_x = torch.zeros(batch_shape + (M + L,), dtype=torch.long)\n",
        "    zeros_x.scatter_(-1, inds, tokens)\n",
        "    markers = (A - 1) * torch.ones(batch_shape + (M,), dtype=torch.long)\n",
        "\n",
        "    x_ = torch.cat([zeros_x, markers], dim=-1)\n",
        "    y_ = torch.cat([tokens], dim=-1)\n",
        "    return x_, y_\n",
        "\n",
        "\n",
        "def generate_dataset(args):\n",
        "    \"\"\"\n",
        "    Generate a dataset based on the provided configuration.\n",
        "\n",
        "    Parameters:\n",
        "    args: Arguments for data generation\n",
        "\n",
        "    Returns:\n",
        "    tuple: Generated inputs and targets\n",
        "    \"\"\"\n",
        "    x, y = torch_copying_data(\n",
        "        args.l_noise, args.l_memorize, args.l_vocab, batch_shape=(args.batch_size,)\n",
        "    )\n",
        "    return x, y"
      ]
    },
    {
      "cell_type": "markdown",
      "metadata": {
        "id": "AkIzZmSLR1Tz"
      },
      "source": [
        "# LSTM"
      ]
    },
    {
      "cell_type": "code",
      "execution_count": 4,
      "metadata": {
        "id": "JRLB49EFR4Hr"
      },
      "outputs": [],
      "source": [
        "class LSTMCell(nn.Module):\n",
        "    def __init__(self, input_size, hidden_size):\n",
        "        super().__init__()\n",
        "        \"\"\"\n",
        "        Initialize the weight matrix here.\n",
        "\n",
        "        \"\"\"\n",
        "        self.weight_matrix = nn.Linear(input_size + hidden_size, 4 * hidden_size) # Write code here\n",
        "        self.init_params()\n",
        "\n",
        "        # We will use layer norm in the forward function for stable training\n",
        "        self.layer_norm = nn.LayerNorm(hidden_size)\n",
        "\n",
        "    def init_params(self):\n",
        "        nn.init.xavier_uniform_(self.weight_matrix.weight)\n",
        "        self.weight_matrix.bias = nn.Parameter(\n",
        "            torch.zeros_like(self.weight_matrix.bias)\n",
        "        )\n",
        "\n",
        "    def compute_gates_and_candidate_cell_state(self, x, h):\n",
        "        \"\"\"\n",
        "        x: (batch_size, input_size)\n",
        "\n",
        "        Returns the i, f, the candidate hidden state tilde(c) and o\n",
        "\n",
        "        (Refer to the assignment document for the notations)\n",
        "\n",
        "        Each of the four is expected to be of shape (batch_size, hidden_size)\n",
        "        Make sure to apply suitable activation functions as described in the assignment\n",
        "        \"\"\"\n",
        "        # Write code here\n",
        "        # Concatenate input and hidden state\n",
        "        combined = torch.cat((x, h), dim=1)\n",
        "        # Compute gates and candidate cell state\n",
        "        gates = self.weight_matrix(combined)\n",
        "        gate_chunks = torch.chunk(gates, 4, dim=1)\n",
        "        input_gate = torch.sigmoid(gate_chunks[0])\n",
        "        forget_gate = torch.sigmoid(gate_chunks[1])\n",
        "        candidate_cell_state = torch.tanh(gate_chunks[2])\n",
        "        output_gate = torch.sigmoid(gate_chunks[3])\n",
        "\n",
        "        #i, f, o, g = torch.split(gates, gates.size(1) // 4, dim=1)\n",
        "        #i = torch.sigmoid(i)\n",
        "        #f = torch.sigmoid(f)\n",
        "        #o = torch.sigmoid(o)\n",
        "        #g = torch.tanh(g)\n",
        "        return input_gate, forget_gate, candidate_cell_state, output_gate\n",
        "\n",
        "    def forward(self, x, h, c):\n",
        "        \"\"\"\n",
        "        x: (batch_size, input_size)\n",
        "\n",
        "        Returns the next computed hidden and cell state (h_next, c_next)\n",
        "\n",
        "        (Refer to the assignment document for the notations)\n",
        "\n",
        "        Each of the two is expected to be of shape (batch_size, hidden_size)\n",
        "\n",
        "        IMPORTANT: Apply the layer norm (initialized in __init__) to the c_next in the calculation\n",
        "        of h_next before applying the tanh activation\n",
        "        \"\"\"\n",
        "        # Write code here\n",
        "        h_next = torch.zeros_like(h)\n",
        "        c_next = torch.zeros_like(c)\n",
        "        input_gate, forget_gate, candidate_cell_state, output_gate = self.compute_gates_and_candidate_cell_state(x, h)\n",
        "        c_next = torch.addcmul(forget_gate * c, input_gate, candidate_cell_state)\n",
        "        normalized_c_next = self.layer_norm(c_next)\n",
        "        h_next = output_gate * torch.tanh(normalized_c_next)\n",
        "        return h_next, c_next\n"
      ]
    },
    {
      "cell_type": "code",
      "execution_count": 5,
      "metadata": {
        "id": "YK5IBKr3SBNS"
      },
      "outputs": [],
      "source": [
        "class LSTM(nn.Module):\n",
        "    def __init__(self, embed_dim, hidden_size, n_layers, vocab_size, mem_len):\n",
        "        \"\"\"\n",
        "        DO NOT MODIFY\n",
        "        \"\"\"\n",
        "        super().__init__()\n",
        "        self.embed_dim = embed_dim\n",
        "        self.n_layers = n_layers\n",
        "        self.hidden_size = hidden_size\n",
        "        self.vocab_size = vocab_size  # l_vocab\n",
        "        self.mem_len = mem_len  # l_memorize\n",
        "        self.embedding = nn.Embedding(vocab_size, embed_dim)\n",
        "        self.cells = nn.ModuleList(\n",
        "            [LSTMCell(embed_dim, hidden_size)]\n",
        "            + [LSTMCell(hidden_size, hidden_size) for _ in range(n_layers - 1)]\n",
        "        )\n",
        "        self.clf = nn.Linear(embed_dim, vocab_size, bias=False)\n",
        "        self.out_mlp = nn.Sequential(\n",
        "            nn.Linear(hidden_size, embed_dim), nn.ReLU(), self.clf\n",
        "        )\n",
        "        self.clf.weight = self.embedding.weight\n",
        "\n",
        "    def get_model_hidden_states(self, x):\n",
        "        \"\"\"\n",
        "        x: (batch_size, sequence_length, embedding_dim)\n",
        "\n",
        "        Returns the output hidden states, with output taken from the last l_memorize steps.\n",
        "        Make sure the code is general and works with multiple stacked layers of LSTM. The initial\n",
        "        hidden and cell states should be initialized to all zeros.\n",
        "\n",
        "        (Refer to the assignment document for the notations and explanation)\n",
        "\n",
        "        Output is expected to be of shape (batch_size, l_memorize, hidden_size)\n",
        "        \"\"\"\n",
        "\n",
        "        batch_size = x.size(0)\n",
        "        seq_length = x.size(1)\n",
        "\n",
        "        final_hidden_states = []\n",
        "        hidden_states = [torch.zeros(batch_size, self.hidden_size).to(x.device) for _ in range(self.n_layers)]\n",
        "        cell_states = [torch.zeros(batch_size, self.hidden_size).to(x.device) for _ in range(self.n_layers)]\n",
        "        for i in range(seq_length):\n",
        "            input = x[:, i, :]\n",
        "\n",
        "            for j in range(self.n_layers):\n",
        "                hidden_states[j], cell_states[j] = self.cells[j](input, hidden_states[j], cell_states[j])\n",
        "                input = hidden_states[j]\n",
        "            if i >= x.size(1) - self.mem_len: # Only take the last l_memorize steps\n",
        "                final_hidden_states.append(hidden_states[-1])\n",
        "\n",
        "        return torch.stack(final_hidden_states, dim=1)\n",
        "        pass\n",
        "\n",
        "    def forward(self, x):\n",
        "        \"\"\"\n",
        "        x: (batch_size, sequence_length)\n",
        "\n",
        "        Returns unnormalized logits as output, with output corresponding to last l_memorize steps.\n",
        "\n",
        "        You should only use the provided methods.\n",
        "\n",
        "        (Refer to the assignment document for the notations and explanation)\n",
        "\n",
        "        Output is expected to be of shape (batch_size, l_memorize, l_vocab)\n",
        "        \"\"\"\n",
        "\n",
        "        x_embedded = self.embedding(x) # (batch_size, sequence_length, embedding_dim) Embedding\n",
        "        hidden_states = self.get_model_hidden_states(x_embedded)\n",
        "        logits = self.out_mlp(hidden_states)\n",
        "        return logits\n"
      ]
    },
    {
      "cell_type": "markdown",
      "metadata": {
        "id": "36f5DtuaSD2c"
      },
      "source": [
        "# LSTMv2"
      ]
    },
    {
      "cell_type": "code",
      "execution_count": 6,
      "metadata": {
        "id": "Y39ZAHNBSFXF"
      },
      "outputs": [],
      "source": [
        "class LSTMv2Cell(nn.Module):\n",
        "    def __init__(self, input_size, hidden_size):\n",
        "        super().__init__()\n",
        "        \"\"\"\n",
        "        Initialize the weight matrix here\n",
        "        \"\"\"\n",
        "        self.hidden_size = hidden_size\n",
        "        self.weight_matrix = nn.Linear(input_size, 3 * hidden_size)  # Write code here\n",
        "\n",
        "        self.init_params()\n",
        "\n",
        "    def init_params(self):\n",
        "        nn.init.xavier_uniform_(self.weight_matrix.weight)\n",
        "        self.weight_matrix.bias = nn.Parameter(\n",
        "            torch.zeros_like(self.weight_matrix.bias)\n",
        "        )\n",
        "\n",
        "    def compute_gates_and_candidate_hidden_state(self, x):\n",
        "        \"\"\"\n",
        "        x: (batch_size, sequence_length, input_size)\n",
        "\n",
        "        Returns the i, f and the candidate hidden state tilde(h)\n",
        "\n",
        "        (Refer to the assignment document for the notations)\n",
        "\n",
        "        Each of the three is expected to be of shape (batch_size, sequence_length, hidden_size)\n",
        "        \"\"\"\n",
        "\n",
        "\n",
        "\n",
        "        gates = self.weight_matrix(x)\n",
        "        gate_chunks = torch.chunk(gates, 3, dim=-1)\n",
        "        #print(f\"gates.size: {gates.size()}\")\n",
        "        forget_gate = torch.sigmoid(gate_chunks[0])\n",
        "        input_gate = torch.sigmoid(gate_chunks[1])\n",
        "        candidate_hidden_state = gate_chunks[2]\n",
        "\n",
        "\n",
        "\n",
        "        return input_gate, forget_gate, candidate_hidden_state\n",
        "\n",
        "    def forward(self, x):\n",
        "        \"\"\"\n",
        "        x: (batch_size, sequence_length, input_size)\n",
        "\n",
        "        Returns the i', f' and tilde(h)\n",
        "\n",
        "        (Refer to the assignment document for the notations)\n",
        "\n",
        "        Each of the three is expected to be of shape (batch_size, sequence_length, hidden_size)\n",
        "        \"\"\"\n",
        "\n",
        "        forget_gate, input_gate, candidate_hidden_state = self.compute_gates_and_candidate_hidden_state(x)\n",
        "        denominator = forget_gate + input_gate\n",
        "        norm_forget_gate = forget_gate / denominator + 1e-8\n",
        "        norm_input_gate = input_gate / denominator + 1e-8\n",
        "\n",
        "        return norm_input_gate, norm_forget_gate, candidate_hidden_state"
      ]
    },
    {
      "cell_type": "code",
      "execution_count": 7,
      "metadata": {
        "id": "oF3zTJ28SQUD"
      },
      "outputs": [],
      "source": [
        "class LSTMv2(nn.Module):\n",
        "    def __init__(self, embed_dim, hidden_size, n_layers, vocab_size, mem_len):\n",
        "        \"\"\"\n",
        "        DO NOT MODIFY\n",
        "        \"\"\"\n",
        "        super().__init__()\n",
        "        self.n_layers = n_layers\n",
        "        self.embed_dim = embed_dim\n",
        "        self.hidden_size = hidden_size\n",
        "        self.vocab_size = vocab_size  # l_vocab\n",
        "        self.mem_len = mem_len  # l_memorize\n",
        "        self.embedding = nn.Embedding(vocab_size, embed_dim)\n",
        "        self.cells = nn.ModuleList(\n",
        "            [LSTMv2Cell(embed_dim, hidden_size)]\n",
        "            + [LSTMv2Cell(hidden_size, hidden_size) for _ in range(n_layers - 1)]\n",
        "        )\n",
        "        self.clf = nn.Linear(embed_dim, vocab_size, bias=False)\n",
        "        self.out_mlp = nn.Sequential(\n",
        "            nn.Linear(hidden_size, embed_dim), nn.ReLU(), self.clf\n",
        "        )\n",
        "        self.clf.weight = self.embedding.weight\n",
        "\n",
        "    def parallel_scan_single_layer(self, f_norm, i_norm, h_tilde):\n",
        "        \"\"\"\n",
        "        DO NOT MODIFY\n",
        "\n",
        "        f_norm: Normalized forget gate. Shape: (batch_size, sequence_length, hidden_size)\n",
        "        i_norm: Normalized input gate. Shape: (batch_size, sequence_length, hidden_size)\n",
        "        h_tilde: Candidate hidden state. Shape: (batch_size, sequence_length, hidden_size)\n",
        "\n",
        "        Returns the computed hidden states at every step.\n",
        "        Output of the function is of shape (batch_size, sequence_length, hidden_size)\n",
        "        \"\"\"\n",
        "        batch_size = h_tilde.shape[0]\n",
        "        log_a_coeff = torch.log(f_norm + 1e-39)\n",
        "\n",
        "        h_0 = 0.5 * f_norm.new_ones(batch_size, 1, self.hidden_size)\n",
        "        h_norm = torch.where(h_tilde >= 0, h_tilde + 0.5, torch.sigmoid(h_tilde))\n",
        "        b_coeff = torch.cat([h_0, i_norm * h_norm], dim=1)\n",
        "        log_b_coeff = torch.log(b_coeff + 1e-39)\n",
        "\n",
        "        a_star = F.pad(torch.cumsum(log_a_coeff, dim=1), (0, 0, 1, 0))\n",
        "        log_h0_plus_b_star = torch.logcumsumexp(log_b_coeff - a_star, dim=1)\n",
        "        log_h = a_star + log_h0_plus_b_star\n",
        "\n",
        "        return torch.exp(log_h)[:, 1:]\n",
        "\n",
        "    def get_model_hidden_states(self, x):\n",
        "        \"\"\"\n",
        "        x: (batch_size, sequence_length, embedding_dim)\n",
        "\n",
        "        Returns the output hidden states, with output taken from the last l_memorize steps.\n",
        "        Make sure the code is general and works with multiple stacked layers of LSTMv2.\n",
        "        You should use the provided parallel scan method to get hidden states.\n",
        "\n",
        "        (Refer to the assignment document for the notations and explanation)\n",
        "\n",
        "        Output is expected to be of shape (batch_size, l_memorize, hidden_size)\n",
        "        \"\"\"\n",
        "\n",
        "        hidden_states = x\n",
        "\n",
        "\n",
        "\n",
        "\n",
        "        for j in range(self.n_layers):\n",
        "            input_gate_norm, forget_gate_norm, h_tilde = self.cells[j](hidden_states)\n",
        "            hidden_states = self.parallel_scan_single_layer(forget_gate_norm, input_gate_norm, h_tilde)\n",
        "\n",
        "        return hidden_states[:, -self.mem_len:, :]\n",
        "\n",
        "    def forward(self, x):\n",
        "        \"\"\"\n",
        "        x: (batch_size, sequence_length)\n",
        "\n",
        "        Returns unnormalized logits as output, with output corresponding to last l_memorize steps.\n",
        "\n",
        "        You should only use the provided methods.\n",
        "\n",
        "        (Refer to the assignment document for the notations and explanation)\n",
        "\n",
        "        Output is expected to be of shape (batch_size, l_memorize, l_vocab)\n",
        "        \"\"\"\n",
        "\n",
        "        x_embedded = self.embedding(x)\n",
        "\n",
        "        hidden_states = self.get_model_hidden_states(x_embedded)\n",
        "\n",
        "        logits = self.out_mlp(hidden_states)\n",
        "        return logits"
      ]
    },
    {
      "cell_type": "markdown",
      "metadata": {
        "id": "gk3kQfygSTby"
      },
      "source": [
        "# Training and testing"
      ]
    },
    {
      "cell_type": "code",
      "execution_count": 8,
      "metadata": {
        "id": "eSEafZpqSXWh"
      },
      "outputs": [],
      "source": [
        "def seed_experiment(seed):\n",
        "    \"\"\"Seed the pseudorandom number generator, for repeatability.\n",
        "\n",
        "    Args:\n",
        "        seed (int): random seed\n",
        "    \"\"\"\n",
        "    random.seed(seed)\n",
        "    os.environ[\"PYTHONHASHSEED\"] = str(seed)\n",
        "    np.random.seed(seed)\n",
        "    torch.manual_seed(seed)\n",
        "    torch.cuda.manual_seed(seed)\n",
        "    torch.backends.cudnn.deterministic = True\n",
        "    torch.backends.cudnn.benchmark = True\n",
        "\n",
        "\n",
        "def init_model_and_optimizer(args, device):\n",
        "    if args.model == lstm_model:\n",
        "        model = LSTM(\n",
        "            args.embed_dim,\n",
        "            4 * args.embed_dim,\n",
        "            args.n_layers,\n",
        "            args.l_vocab,\n",
        "            args.l_memorize,\n",
        "        )\n",
        "        model = model.to(device)\n",
        "        optimizer = optim.Adam(model.parameters(), lr=0.01)\n",
        "    elif args.model == lstmv2_model:\n",
        "        model = LSTMv2(\n",
        "            args.embed_dim,\n",
        "            4 * args.embed_dim,\n",
        "            args.n_layers,\n",
        "            args.l_vocab,\n",
        "            args.l_memorize,\n",
        "        )\n",
        "        model = model.to(device)\n",
        "        optimizer = optim.Adam(model.parameters(), lr=0.001)\n",
        "    else:\n",
        "        raise ModuleNotFoundError\n",
        "\n",
        "    return model, optimizer"
      ]
    },
    {
      "cell_type": "code",
      "execution_count": 9,
      "metadata": {
        "id": "LUUN1sITSsTS"
      },
      "outputs": [],
      "source": [
        "# Training function\n",
        "def train(args, model, optimizer):\n",
        "    \"\"\"\n",
        "    Train the model.\n",
        "    \"\"\"\n",
        "    model.train()\n",
        "    criterion = nn.CrossEntropyLoss()\n",
        "    wandb.init(project=\"lstm_models\", name=\"training_records\")\n",
        "    wandb.config.update(args)\n",
        "    start_time = time.time()\n",
        "    for step in range(args.n_steps):\n",
        "        optimizer.zero_grad()\n",
        "\n",
        "        \"\"\"\n",
        "        Generate a batch of data.\n",
        "        Inputs: (batch_size, l_noise + 2*l_memorize)\n",
        "        Targets: (batch_size, l_memorize)\n",
        "        \"\"\"\n",
        "        inputs, targets = generate_dataset(args)\n",
        "        inputs = inputs.to(device)\n",
        "        targets = targets.to(device)\n",
        "\n",
        "        outputs = model(inputs)  # Expected shape is (batch size, l_memorize, l_vocab)\n",
        "        loss = (\n",
        "            criterion(outputs.view(-1, args.l_vocab), targets.view(-1)) * args.l_vocab\n",
        "        )\n",
        "        loss.backward()\n",
        "\n",
        "        # Gradient clipping for stable training\n",
        "        nn.utils.clip_grad_norm_(model.parameters(), max_norm=1.0)\n",
        "        optimizer.step()\n",
        "\n",
        "        # Logging useful quantities\n",
        "        step_loss = loss.item()\n",
        "        total = targets.size(0) * targets.size(1)\n",
        "        correct = (outputs.argmax(-1) == targets).sum().item()\n",
        "        accuracy = 100 * correct / total\n",
        "        torch.cuda.synchronize() # Ensure all computations are finished\n",
        "        peak_memory = torch.cuda.max_memory_allocated(device) / (1024 ** 2) # In MB\n",
        "        wandb.log({\"peak_gpu_memory\": peak_memory})\n",
        "        #wandb.log({\"loss\": step_loss/args.batch_size})\n",
        "        #wandb.log({\"accuracy\": accuracy})\n",
        "\n",
        "        one_step_time_log = time.time()\n",
        "        one_step_time_log -= start_time\n",
        "        if step == 0:\n",
        "            print(f\"Training one step of {args.model} took {one_step_time_log:.2f} seconds\")\n",
        "        #print(f\"Training one step of {args.model} took {one_step_time_log/60:.2f} minutes\")\n",
        "\n",
        "        if step % 100 == 0:\n",
        "            print(\n",
        "                f\"Step [{step+1}/{args.n_steps}], Loss: {step_loss/args.batch_size:.4f}, Accuracy: {accuracy:.2f}%\"\n",
        "            )\n",
        "\n",
        "    end_time = time.time()\n",
        "    print(f\"Training completed in: {(end_time - start_time)/60:.2f} minutes\")\n",
        "    print(f\"Final training accuracy: {accuracy:.2f}%\")\n",
        "    print(f\"Final training loss: {step_loss/args.batch_size:.4f}\")\n",
        "    print(f\"Total number of parameters: {sum(p.numel() for p in model.parameters())}\")\n",
        "    #print(f\"Total number of trainable parameters: {sum(p.numel() for p in model.parameters() if p.requires_grad)}\")\n",
        "    #print(f\"Total number of non-trainable parameters: {sum(p.numel() for p in model.parameters() if not p.requires_grad)}\")\n",
        "\n",
        "\n",
        "    return model\n",
        "\n",
        "\n",
        "def test(args, model):\n",
        "    \"\"\"\n",
        "    Test the learned model on the test set\n",
        "    \"\"\"\n",
        "    model.eval()\n",
        "    start_time = time.time()\n",
        "    correct = 0\n",
        "    with torch.no_grad():\n",
        "        for step in range(args.eval_steps):\n",
        "            inputs, targets = generate_dataset(args)\n",
        "            inputs = inputs.to(device)\n",
        "            targets = targets.to(device)\n",
        "            outputs = model(inputs)\n",
        "            correct += (outputs.argmax(-1) == targets).sum().item()\n",
        "\n",
        "    end_time = time.time()\n",
        "    print(\n",
        "        f\"Test Accuracy: {100* correct/(args.eval_steps * args.batch_size * args.l_memorize):.2f}%\"\n",
        "    )\n",
        "    print(f\"Testing completed in: {(end_time - start_time)/60:.2f} minutes\")"
      ]
    },
    {
      "cell_type": "code",
      "execution_count": 10,
      "metadata": {
        "id": "pBn1o51YS_Zf",
        "colab": {
          "base_uri": "https://localhost:8080/",
          "height": 707
        },
        "outputId": "649bac6d-c96a-46d1-bce8-e9243d433c7b"
      },
      "outputs": [
        {
          "output_type": "stream",
          "name": "stdout",
          "text": [
            "Using device: cuda\n"
          ]
        },
        {
          "output_type": "stream",
          "name": "stderr",
          "text": [
            "\u001b[34m\u001b[1mwandb\u001b[0m: Using wandb-core as the SDK backend. Please refer to https://wandb.me/wandb-core for more information.\n"
          ]
        },
        {
          "output_type": "display_data",
          "data": {
            "text/plain": [
              "<IPython.core.display.Javascript object>"
            ],
            "application/javascript": [
              "\n",
              "        window._wandbApiKey = new Promise((resolve, reject) => {\n",
              "            function loadScript(url) {\n",
              "            return new Promise(function(resolve, reject) {\n",
              "                let newScript = document.createElement(\"script\");\n",
              "                newScript.onerror = reject;\n",
              "                newScript.onload = resolve;\n",
              "                document.body.appendChild(newScript);\n",
              "                newScript.src = url;\n",
              "            });\n",
              "            }\n",
              "            loadScript(\"https://cdn.jsdelivr.net/npm/postmate/build/postmate.min.js\").then(() => {\n",
              "            const iframe = document.createElement('iframe')\n",
              "            iframe.style.cssText = \"width:0;height:0;border:none\"\n",
              "            document.body.appendChild(iframe)\n",
              "            const handshake = new Postmate({\n",
              "                container: iframe,\n",
              "                url: 'https://wandb.ai/authorize'\n",
              "            });\n",
              "            const timeout = setTimeout(() => reject(\"Couldn't auto authenticate\"), 5000)\n",
              "            handshake.then(function(child) {\n",
              "                child.on('authorize', data => {\n",
              "                    clearTimeout(timeout)\n",
              "                    resolve(data)\n",
              "                });\n",
              "            });\n",
              "            })\n",
              "        });\n",
              "    "
            ]
          },
          "metadata": {}
        },
        {
          "output_type": "stream",
          "name": "stderr",
          "text": [
            "\u001b[34m\u001b[1mwandb\u001b[0m: Logging into wandb.ai. (Learn how to deploy a W&B server locally: https://wandb.me/wandb-server)\n",
            "\u001b[34m\u001b[1mwandb\u001b[0m: You can find your API key in your browser here: https://wandb.ai/authorize\n",
            "wandb: Paste an API key from your profile and hit enter, or press ctrl+c to quit:"
          ]
        },
        {
          "name": "stdout",
          "output_type": "stream",
          "text": [
            " ··········\n"
          ]
        },
        {
          "output_type": "stream",
          "name": "stderr",
          "text": [
            "\u001b[34m\u001b[1mwandb\u001b[0m: Appending key for api.wandb.ai to your netrc file: /root/.netrc\n"
          ]
        },
        {
          "output_type": "display_data",
          "data": {
            "text/plain": [
              "<IPython.core.display.HTML object>"
            ],
            "text/html": [
              "Tracking run with wandb version 0.18.5"
            ]
          },
          "metadata": {}
        },
        {
          "output_type": "display_data",
          "data": {
            "text/plain": [
              "<IPython.core.display.HTML object>"
            ],
            "text/html": [
              "Run data is saved locally in <code>/content/wandb/run-20241107_154632-y5epm9ya</code>"
            ]
          },
          "metadata": {}
        },
        {
          "output_type": "display_data",
          "data": {
            "text/plain": [
              "<IPython.core.display.HTML object>"
            ],
            "text/html": [
              "Syncing run <strong><a href='https://wandb.ai/rabbibinda_/lstm_models/runs/y5epm9ya' target=\"_blank\">training_records</a></strong> to <a href='https://wandb.ai/rabbibinda_/lstm_models' target=\"_blank\">Weights & Biases</a> (<a href='https://wandb.me/run' target=\"_blank\">docs</a>)<br/>"
            ]
          },
          "metadata": {}
        },
        {
          "output_type": "display_data",
          "data": {
            "text/plain": [
              "<IPython.core.display.HTML object>"
            ],
            "text/html": [
              " View project at <a href='https://wandb.ai/rabbibinda_/lstm_models' target=\"_blank\">https://wandb.ai/rabbibinda_/lstm_models</a>"
            ]
          },
          "metadata": {}
        },
        {
          "output_type": "display_data",
          "data": {
            "text/plain": [
              "<IPython.core.display.HTML object>"
            ],
            "text/html": [
              " View run at <a href='https://wandb.ai/rabbibinda_/lstm_models/runs/y5epm9ya' target=\"_blank\">https://wandb.ai/rabbibinda_/lstm_models/runs/y5epm9ya</a>"
            ]
          },
          "metadata": {}
        },
        {
          "output_type": "stream",
          "name": "stdout",
          "text": [
            "Training one step of LSTM took 2.36 seconds\n",
            "Step [1/2000], Loss: 0.8728, Accuracy: 0.00%\n",
            "Step [101/2000], Loss: 0.6601, Accuracy: 7.42%\n",
            "Step [201/2000], Loss: 0.6607, Accuracy: 8.40%\n",
            "Step [301/2000], Loss: 0.6620, Accuracy: 7.13%\n",
            "Step [401/2000], Loss: 0.6523, Accuracy: 9.38%\n",
            "Step [501/2000], Loss: 0.6446, Accuracy: 9.57%\n",
            "Step [601/2000], Loss: 0.6344, Accuracy: 9.57%\n",
            "Step [701/2000], Loss: 0.6319, Accuracy: 11.52%\n",
            "Step [801/2000], Loss: 0.6163, Accuracy: 11.91%\n",
            "Step [901/2000], Loss: 0.6120, Accuracy: 11.62%\n",
            "Step [1001/2000], Loss: 0.6014, Accuracy: 9.96%\n",
            "Step [1101/2000], Loss: 0.5912, Accuracy: 11.23%\n",
            "Step [1201/2000], Loss: 0.5912, Accuracy: 12.30%\n",
            "Step [1301/2000], Loss: 0.6004, Accuracy: 12.11%\n",
            "Step [1401/2000], Loss: 0.5815, Accuracy: 14.16%\n",
            "Step [1501/2000], Loss: 0.5758, Accuracy: 12.89%\n",
            "Step [1601/2000], Loss: 0.5714, Accuracy: 12.01%\n",
            "Step [1701/2000], Loss: 0.5684, Accuracy: 12.60%\n",
            "Step [1801/2000], Loss: 0.5662, Accuracy: 14.36%\n",
            "Step [1901/2000], Loss: 0.5663, Accuracy: 13.67%\n",
            "Training completed in: 23.70 minutes\n",
            "Final training accuracy: 12.99%\n",
            "Final training loss: 0.5935\n",
            "Total number of parameters: 1398336\n",
            "Test Accuracy: 11.74%\n",
            "Testing completed in: 0.04 minutes\n"
          ]
        }
      ],
      "source": [
        "seed_experiment(1) #Do not change the seed\n",
        "# Device configuration\n",
        "device = torch.device(\"cuda\" if torch.cuda.is_available() else \"cpu\")\n",
        "print(f\"Using device: {device}\")\n",
        "\n",
        "lstm_model = \"LSTM\"\n",
        "lstmv2_model = \"LSTMv2\"\n",
        "\n",
        "class Args:\n",
        "    embed_dim = 64\n",
        "    l_noise=256\n",
        "    l_memorize=16\n",
        "    l_vocab = 16\n",
        "    batch_size= 64\n",
        "    n_steps=2000\n",
        "    eval_steps=10\n",
        "    n_layers=3\n",
        "    model=lstm_model\n",
        "\n",
        "args = Args()\n",
        "\n",
        "# Define model\n",
        "model, optimizer = init_model_and_optimizer(args, device)\n",
        "\n",
        "model = train(args, model, optimizer)\n",
        "test(args, model)"
      ]
    },
    {
      "cell_type": "markdown",
      "source": [
        "Training using l_noise = 256\n",
        "\n",
        "Training one step of LSTM took **1.99 seconds**\n",
        "\n",
        "Step [1/2000], Loss: 0.8414, Accuracy: 1.86%\n",
        "\n",
        "Step [101/2000], Loss: 0.6512, Accuracy: 11.04%\n",
        "\n",
        "Step [201/2000], Loss: 0.6297, Accuracy: 12.99%\n",
        "\n",
        "Step [301/2000], Loss: 0.6153, Accuracy: 15.72%\n",
        "\n",
        "Step [401/2000], Loss: 0.5998, Accuracy: 16.80%\n",
        "\n",
        "Step [501/2000], Loss: 0.5853, Accuracy: 18.07%\n",
        "\n",
        "Step [601/2000], Loss: 0.5833, Accuracy: 19.14%\n",
        "\n",
        "Step [701/2000], Loss: 0.5731, Accuracy: 20.80%\n",
        "\n",
        "Step [801/2000], Loss: 0.5462, Accuracy: 22.85%\n",
        "\n",
        "Step [901/2000], Loss: 0.5286, Accuracy: 25.49%\n",
        "\n",
        "Step [1001/2000], Loss: 0.5242, Accuracy: 25.88%\n",
        "\n",
        "Step [1101/2000], Loss: 0.4940, Accuracy: 28.61%\n",
        "\n",
        "Step [1201/2000], Loss: 0.4864, Accuracy: 31.15%\n",
        "\n",
        "Step [1301/2000], Loss: 0.4715, Accuracy: 33.11%\n",
        "\n",
        "Step [1401/2000], Loss: 0.4502, Accuracy: 35.55%\n",
        "\n",
        "Step [1501/2000], Loss: 0.4591, Accuracy: 31.64%\n",
        "\n",
        "Step [1601/2000], Loss: 0.4663, Accuracy: 33.40%\n",
        "\n",
        "Step [1701/2000], Loss: 0.4312, Accuracy: 38.18%\n",
        "\n",
        "Step [1801/2000], Loss: 0.4014, Accuracy: 38.67%\n",
        "\n",
        "Step [1901/2000], Loss: 0.4033, Accuracy: 40.92%\n",
        "\n",
        "Training completed in: **8.69 minutes**\n",
        "\n",
        "**Final training accuracy: 40.92%**\n",
        "\n",
        "**Final training loss: 0.3977**\n",
        "\n",
        "Total number of parameters: 346688\n",
        "\n",
        "**Test Accuracy: 39.81%**\n",
        "\n",
        "Testing completed in: 0.01 minutes"
      ],
      "metadata": {
        "id": "SxH_2kVf6W0P"
      }
    },
    {
      "cell_type": "markdown",
      "source": [
        "Training vanilla LSTM with l_noise = 512\n",
        "\n",
        "Training one step of LSTM took **0.48 seconds**\n",
        "\n",
        "Step [1/2000], Loss: 0.8412, Accuracy: 2.34%\n",
        "\n",
        "Step [101/2000], Loss: 0.6544, Accuracy: 9.08%\n",
        "\n",
        "Step [201/2000], Loss: 0.6326, Accuracy: 12.70%\n",
        "\n",
        "Step [301/2000], Loss: 0.6222, Accuracy: 13.38%\n",
        "\n",
        "Step [401/2000], Loss: 0.6170, Accuracy: 16.11%\n",
        "\n",
        "Step [501/2000], Loss: 0.6055, Accuracy: 15.82%\n",
        "\n",
        "Step [601/2000], Loss: 0.6054, Accuracy: 16.60%\n",
        "\n",
        "Step [701/2000], Loss: 0.5947, Accuracy: 17.38%\n",
        "\n",
        "Step [801/2000], Loss: 0.5928, Accuracy: 15.82%\n",
        "\n",
        "Step [901/2000], Loss: 0.5890, Accuracy: 19.43%\n",
        "\n",
        "Step [1001/2000], Loss: 0.5794, Accuracy: 20.31%\n",
        "\n",
        "Step [1101/2000], Loss: 0.5730, Accuracy: 21.88%\n",
        "\n",
        "Step [1201/2000], Loss: 0.5650, Accuracy: 21.88%\n",
        "\n",
        "Step [1301/2000], Loss: 0.5561, Accuracy: 23.83%\n",
        "\n",
        "Step [1401/2000], Loss: 0.5584, Accuracy: 22.36%\n",
        "\n",
        "Step [1501/2000], Loss: 0.5554, Accuracy: 23.44%\n",
        "\n",
        "Step [1601/2000], Loss: 0.5366, Accuracy: 25.68%\n",
        "\n",
        "Step [1701/2000], Loss: 0.5326, Accuracy: 25.88%\n",
        "\n",
        "Step [1801/2000], Loss: 0.5322, Accuracy: 25.59%\n",
        "\n",
        "Step [1901/2000], Loss: 0.5107, Accuracy: 27.05%\n",
        "\n",
        "Training completed in: **16.63 minutes**\n",
        "\n",
        "**Final training accuracy: 27.93%**\n",
        "\n",
        "**Final training loss: 0.5099**\n",
        "\n",
        "Total number of parameters: 346688\n",
        "\n",
        "**Test Accuracy: 27.65%**\n",
        "\n",
        "**Testing completed in: 0.02 minutes**"
      ],
      "metadata": {
        "id": "cUi9kL49aOay"
      }
    },
    {
      "cell_type": "code",
      "source": [
        "seed_experiment(1) #Do not change the seed\n",
        "# Device configuration\n",
        "device = torch.device(\"cuda\" if torch.cuda.is_available() else \"cpu\")\n",
        "print(f\"Using device: {device}\")\n",
        "\n",
        "lstm_model = \"LSTM\"\n",
        "lstmv2_model = \"LSTMv2\"\n",
        "\n",
        "class Args:\n",
        "    embed_dim = 64\n",
        "    l_noise=256\n",
        "    l_memorize=16\n",
        "    l_vocab = 16\n",
        "    batch_size= 64\n",
        "    n_steps=2000\n",
        "    eval_steps=10\n",
        "    n_layers=3\n",
        "    model=lstmv2_model\n",
        "\n",
        "args = Args()\n",
        "\n",
        "# Define model\n",
        "model, optimizer = init_model_and_optimizer(args, device)\n",
        "\n",
        "model = train(args, model, optimizer)\n",
        "test(args, model)"
      ],
      "metadata": {
        "colab": {
          "base_uri": "https://localhost:8080/",
          "height": 825
        },
        "id": "aEiZEwXrsUUb",
        "outputId": "2d0f7ab3-2959-488e-db73-abc37d35f459"
      },
      "execution_count": 15,
      "outputs": [
        {
          "output_type": "stream",
          "name": "stdout",
          "text": [
            "Using device: cuda\n"
          ]
        },
        {
          "output_type": "display_data",
          "data": {
            "text/plain": [
              "<IPython.core.display.HTML object>"
            ],
            "text/html": [
              "Finishing last run (ID:ic8e8bjm) before initializing another..."
            ]
          },
          "metadata": {}
        },
        {
          "output_type": "display_data",
          "data": {
            "text/plain": [
              "<IPython.core.display.HTML object>"
            ],
            "text/html": [
              "<style>\n",
              "    table.wandb td:nth-child(1) { padding: 0 10px; text-align: left ; width: auto;} td:nth-child(2) {text-align: left ; width: 100%}\n",
              "    .wandb-row { display: flex; flex-direction: row; flex-wrap: wrap; justify-content: flex-start; width: 100% }\n",
              "    .wandb-col { display: flex; flex-direction: column; flex-basis: 100%; flex: 1; padding: 10px; }\n",
              "    </style>\n",
              "<div class=\"wandb-row\"><div class=\"wandb-col\"><h3>Run history:</h3><br/><table class=\"wandb\"><tr><td>peak_gpu_memory</td><td>▁▁▁▁▁▁▁▁▁▁▁▁▁▁▁▁▁▁▁▁▁▁▁▁▁▁▁▁▁▁▁▁▁▁▁▁▁▁▁▁</td></tr></table><br/></div><div class=\"wandb-col\"><h3>Run summary:</h3><br/><table class=\"wandb\"><tr><td>peak_gpu_memory</td><td>714.9209</td></tr></table><br/></div></div>"
            ]
          },
          "metadata": {}
        },
        {
          "output_type": "display_data",
          "data": {
            "text/plain": [
              "<IPython.core.display.HTML object>"
            ],
            "text/html": [
              " View run <strong style=\"color:#cdcd00\">training_records</strong> at: <a href='https://wandb.ai/rabbibinda_/lstm_models/runs/ic8e8bjm' target=\"_blank\">https://wandb.ai/rabbibinda_/lstm_models/runs/ic8e8bjm</a><br/> View project at: <a href='https://wandb.ai/rabbibinda_/lstm_models' target=\"_blank\">https://wandb.ai/rabbibinda_/lstm_models</a><br/>Synced 5 W&B file(s), 0 media file(s), 0 artifact file(s) and 0 other file(s)"
            ]
          },
          "metadata": {}
        },
        {
          "output_type": "display_data",
          "data": {
            "text/plain": [
              "<IPython.core.display.HTML object>"
            ],
            "text/html": [
              "Find logs at: <code>./wandb/run-20241106_034646-ic8e8bjm/logs</code>"
            ]
          },
          "metadata": {}
        },
        {
          "output_type": "display_data",
          "data": {
            "text/plain": [
              "<IPython.core.display.HTML object>"
            ],
            "text/html": [
              "Successfully finished last run (ID:ic8e8bjm). Initializing new run:<br/>"
            ]
          },
          "metadata": {}
        },
        {
          "output_type": "display_data",
          "data": {
            "text/plain": [
              "<IPython.core.display.HTML object>"
            ],
            "text/html": [
              "Tracking run with wandb version 0.18.5"
            ]
          },
          "metadata": {}
        },
        {
          "output_type": "display_data",
          "data": {
            "text/plain": [
              "<IPython.core.display.HTML object>"
            ],
            "text/html": [
              "Run data is saved locally in <code>/content/wandb/run-20241106_035111-0tnejgbu</code>"
            ]
          },
          "metadata": {}
        },
        {
          "output_type": "display_data",
          "data": {
            "text/plain": [
              "<IPython.core.display.HTML object>"
            ],
            "text/html": [
              "Syncing run <strong><a href='https://wandb.ai/rabbibinda_/lstm_models/runs/0tnejgbu' target=\"_blank\">training_records</a></strong> to <a href='https://wandb.ai/rabbibinda_/lstm_models' target=\"_blank\">Weights & Biases</a> (<a href='https://wandb.me/run' target=\"_blank\">docs</a>)<br/>"
            ]
          },
          "metadata": {}
        },
        {
          "output_type": "display_data",
          "data": {
            "text/plain": [
              "<IPython.core.display.HTML object>"
            ],
            "text/html": [
              " View project at <a href='https://wandb.ai/rabbibinda_/lstm_models' target=\"_blank\">https://wandb.ai/rabbibinda_/lstm_models</a>"
            ]
          },
          "metadata": {}
        },
        {
          "output_type": "display_data",
          "data": {
            "text/plain": [
              "<IPython.core.display.HTML object>"
            ],
            "text/html": [
              " View run at <a href='https://wandb.ai/rabbibinda_/lstm_models/runs/0tnejgbu' target=\"_blank\">https://wandb.ai/rabbibinda_/lstm_models/runs/0tnejgbu</a>"
            ]
          },
          "metadata": {}
        },
        {
          "output_type": "stream",
          "name": "stdout",
          "text": [
            "Training one step of LSTMv2 took 0.07 seconds\n",
            "Step [1/2000], Loss: 1.7166, Accuracy: 7.23%\n",
            "Step [101/2000], Loss: 0.6691, Accuracy: 6.93%\n",
            "Step [201/2000], Loss: 0.6625, Accuracy: 6.93%\n",
            "Step [301/2000], Loss: 0.6592, Accuracy: 9.08%\n",
            "Step [401/2000], Loss: 0.6367, Accuracy: 14.06%\n",
            "Step [501/2000], Loss: 0.5929, Accuracy: 19.82%\n",
            "Step [601/2000], Loss: 0.5559, Accuracy: 20.51%\n",
            "Step [701/2000], Loss: 0.5271, Accuracy: 24.71%\n",
            "Step [801/2000], Loss: 0.4980, Accuracy: 27.54%\n",
            "Step [901/2000], Loss: 0.4492, Accuracy: 36.62%\n",
            "Step [1001/2000], Loss: 0.4018, Accuracy: 42.87%\n",
            "Step [1101/2000], Loss: 0.3809, Accuracy: 42.97%\n",
            "Step [1201/2000], Loss: 0.3431, Accuracy: 52.44%\n",
            "Step [1301/2000], Loss: 0.3045, Accuracy: 56.93%\n",
            "Step [1401/2000], Loss: 0.2618, Accuracy: 64.55%\n",
            "Step [1501/2000], Loss: 0.2526, Accuracy: 65.23%\n",
            "Step [1601/2000], Loss: 0.2305, Accuracy: 69.04%\n",
            "Step [1701/2000], Loss: 0.2040, Accuracy: 70.41%\n",
            "Step [1801/2000], Loss: 0.1937, Accuracy: 72.27%\n",
            "Step [1901/2000], Loss: 0.1842, Accuracy: 74.12%\n",
            "Training completed in: 2.05 minutes\n",
            "Final training accuracy: 77.83%\n",
            "Final training loss: 0.1658\n",
            "Total number of parameters: 462144\n",
            "Test Accuracy: 74.62%\n",
            "Testing completed in: 0.00 minutes\n"
          ]
        }
      ]
    },
    {
      "cell_type": "markdown",
      "source": [
        "Training LSTMv2 using l_noise = 256\n",
        "\n",
        "Training one step of LSTMv2 took **0.29 seconds**\n",
        "\n",
        "Step [1/2000], Loss: 2.0206, Accuracy: 7.03%\n",
        "\n",
        "Step [101/2000], Loss: 0.6621, Accuracy: 6.54%\n",
        "\n",
        "Step [201/2000], Loss: 0.6649, Accuracy: 6.45%\n",
        "\n",
        "Step [301/2000], Loss: 0.6631, Accuracy: 8.01%\n",
        "\n",
        "Step [401/2000], Loss: 0.6616, Accuracy: 7.32%\n",
        "\n",
        "Step [501/2000], Loss: 0.6628, Accuracy: 7.32%\n",
        "\n",
        "Step [601/2000], Loss: 0.6568, Accuracy: 8.69%\n",
        "\n",
        "Step [701/2000], Loss: 0.6524, Accuracy: 12.11%\n",
        "\n",
        "Step [801/2000], Loss: 0.6382, Accuracy: 12.99%\n",
        "\n",
        "Step [901/2000], Loss: 0.6265, Accuracy: 16.02%\n",
        "\n",
        "Step [1001/2000], Loss: 0.6211, Accuracy: 14.75%\n",
        "\n",
        "Step [1101/2000], Loss: 0.6167, Accuracy: 16.21%\n",
        "\n",
        "Step [1201/2000], Loss: 0.6076, Accuracy: 16.70%\n",
        "\n",
        "Step [1301/2000], Loss: 0.5910, Accuracy: 16.41%\n",
        "\n",
        "Step [1401/2000], Loss: 0.5906, Accuracy: 17.09%\n",
        "\n",
        "Step [1501/2000], Loss: 0.5782, Accuracy: 19.43%\n",
        "\n",
        "Step [1601/2000], Loss: 0.5749, Accuracy: 18.95%\n",
        "\n",
        "Step [1701/2000], Loss: 0.5616, Accuracy: 21.48%\n",
        "\n",
        "Step [1801/2000], Loss: 0.5558, Accuracy: 23.24%\n",
        "\n",
        "Step [1901/2000], Loss: 0.5472, Accuracy: 21.88%\n",
        "\n",
        "Training completed in: **0.67 minutes**\n",
        "\n",
        "**Final training accuracy: 23.34%**\n",
        "\n",
        "**Final training loss: 0.5429**\n",
        "\n",
        "Total number of parameters: 67392\n",
        "\n",
        "**Test Accuracy: 21.67%**\n",
        "\n",
        "**Testing completed in: 0.00 minutes**"
      ],
      "metadata": {
        "id": "6Ase2t0Ja2_G"
      }
    },
    {
      "cell_type": "markdown",
      "source": [
        "Training using LSTMv2 with l_noise = 512\n",
        "\n",
        "Training one step of LSTMv2 took **0.04 seconds**\n",
        "\n",
        "Step [1/2000], Loss: 2.0203, Accuracy: 7.03%\n",
        "\n",
        "Step [101/2000], Loss: 0.6612, Accuracy: 7.13%\n",
        "\n",
        "Step [201/2000], Loss: 0.6640, Accuracy: 5.76%\n",
        "\n",
        "Step [301/2000], Loss: 0.6612, Accuracy: 6.93%\n",
        "\n",
        "Step [401/2000], Loss: 0.6628, Accuracy: 6.84%\n",
        "\n",
        "Step [501/2000], Loss: 0.6629, Accuracy: 6.05%\n",
        "\n",
        "Step [601/2000], Loss: 0.6516, Accuracy: 9.57%\n",
        "\n",
        "Step [701/2000], Loss: 0.6497, Accuracy: 12.50%\n",
        "\n",
        "Step [801/2000], Loss: 0.6403, Accuracy: 12.30%\n",
        "\n",
        "Step [901/2000], Loss: 0.6318, Accuracy: 12.89%\n",
        "\n",
        "Step [1001/2000], Loss: 0.6237, Accuracy: 13.96%\n",
        "\n",
        "Step [1101/2000], Loss: 0.6196, Accuracy: 16.70%\n",
        "\n",
        "Step [1201/2000], Loss: 0.6070, Accuracy: 16.89%\n",
        "\n",
        "Step [1301/2000], Loss: 0.6041, Accuracy: 17.87%\n",
        "\n",
        "Step [1401/2000], Loss: 0.6007, Accuracy: 16.89%\n",
        "\n",
        "Step [1501/2000], Loss: 0.5957, Accuracy: 17.77%\n",
        "\n",
        "Step [1601/2000], Loss: 0.5882, Accuracy: 18.65%\n",
        "\n",
        "Step [1701/2000], Loss: 0.5827, Accuracy: 20.31%\n",
        "\n",
        "Step [1801/2000], Loss: 0.5825, Accuracy: 19.53%\n",
        "\n",
        "Step [1901/2000], Loss: 0.5742, Accuracy: 19.34%\n",
        "\n",
        "Training completed in: **1.21 minutes**\n",
        "\n",
        "**Final training accuracy: 20.41%**\n",
        "\n",
        "**Final training loss: 0.5655**\n",
        "\n",
        "Total number of parameters: 67392\n",
        "\n",
        "**Test Accuracy: 20.78%**\n",
        "\n",
        "**Testing completed in: 0.00 minutes**"
      ],
      "metadata": {
        "id": "7EsOAGUGdEoI"
      }
    },
    {
      "cell_type": "code",
      "source": [
        "import matplotlib.pyplot as plt\n",
        "import seaborn as sns\n",
        "from collections import defaultdict\n",
        "\n",
        "def collect_training_data(model_type, num_layers, noise=256):\n",
        "    \"\"\"\n",
        "    Train model and collect loss and accuracy data. This function follows the\n",
        "    design and implementation provided in the code for training and testing the\n",
        "    models.\n",
        "    \"\"\"\n",
        "\n",
        "    # Reset seeds for reproducibility\n",
        "    seed_experiment(1)\n",
        "\n",
        "    class Args:\n",
        "        embed_dim = 64\n",
        "        l_noise = noise\n",
        "        l_memorize = 16\n",
        "        l_vocab = 16\n",
        "        batch_size = 64\n",
        "        n_steps = 2000\n",
        "        eval_steps = 10\n",
        "        model = model_type\n",
        "        n_layers = num_layers\n",
        "\n",
        "    args = Args()\n",
        "    device = torch.device(\"cuda\" if torch.cuda.is_available() else \"cpu\")\n",
        "\n",
        "    # Initialize model and optimizer\n",
        "    model, optimizer = init_model_and_optimizer(args, device)\n",
        "\n",
        "    # Lists to store metrics\n",
        "    losses = []\n",
        "    accuracies = []\n",
        "    criterion = nn.CrossEntropyLoss()\n",
        "\n",
        "    # Training loop\n",
        "    model.train()\n",
        "    for step in range(args.n_steps):\n",
        "        optimizer.zero_grad()\n",
        "\n",
        "        # Generate batch\n",
        "        inputs, targets = generate_dataset(args)\n",
        "        inputs = inputs.to(device)\n",
        "        targets = targets.to(device)\n",
        "\n",
        "        # Forward pass\n",
        "        outputs = model(inputs)\n",
        "        loss = criterion(outputs.view(-1, args.l_vocab), targets.view(-1)) * args.l_vocab\n",
        "\n",
        "        # Backward pass\n",
        "        loss.backward()\n",
        "        nn.utils.clip_grad_norm_(model.parameters(), max_norm=1.0)\n",
        "        optimizer.step()\n",
        "\n",
        "        # Record metrics\n",
        "        step_loss = loss.item()\n",
        "        total = targets.size(0) * targets.size(1)\n",
        "        correct = (outputs.argmax(-1) == targets).sum().item()\n",
        "        accuracy = 100 * correct / total\n",
        "\n",
        "        losses.append(step_loss/args.batch_size)\n",
        "        accuracies.append(accuracy)\n",
        "\n",
        "    # Test accuracy\n",
        "    model.eval()\n",
        "    correct = 0\n",
        "    with torch.no_grad():\n",
        "        for step in range(args.eval_steps):\n",
        "            inputs, targets = generate_dataset(args)\n",
        "            inputs = inputs.to(device)\n",
        "            targets = targets.to(device)\n",
        "            outputs = model(inputs)\n",
        "            correct += (outputs.argmax(-1) == targets).sum().item()\n",
        "\n",
        "    test_accuracy = 100 * correct/(args.eval_steps * args.batch_size * args.l_memorize)\n",
        "\n",
        "    return losses, accuracies, test_accuracy"
      ],
      "metadata": {
        "id": "slKpfaR1y720"
      },
      "execution_count": 16,
      "outputs": []
    },
    {
      "cell_type": "code",
      "source": [
        "def plot_training_curves():\n",
        "    \"\"\"\n",
        "    Create training curves for both models with 1 and 3 layers\n",
        "    \"\"\"\n",
        "\n",
        "    #plt.style.use('seaborn')\n",
        "    sns.set_theme(style=\"darkgrid\")\n",
        "    sns.set_palette(\"husl\")\n",
        "\n",
        "\n",
        "    fig, (ax1, ax2) = plt.subplots(1, 2, figsize=(15, 6))\n",
        "\n",
        "    # Configurations data\n",
        "    configs = [\n",
        "        (lstm_model, 1),\n",
        "        (lstmv2_model, 1),\n",
        "        (lstm_model, 3),\n",
        "        (lstmv2_model, 3)\n",
        "    ]\n",
        "\n",
        "    results = {} # To store the results\n",
        "    for model_type, n_layers in configs:\n",
        "        model_name = f\"{model_type}-{n_layers}layer\"\n",
        "        losses, accs, test_acc = collect_training_data(model_type, n_layers)\n",
        "        results[model_name] = {\n",
        "            'losses': losses,\n",
        "            'accuracies': accs,\n",
        "            'test_acc': test_acc\n",
        "        }\n",
        "\n",
        "    # Plot 1-layer results\n",
        "    steps = range(len(results[f'{lstm_model}-1layer']['losses']))\n",
        "    ax1.plot(steps, results[f'{lstm_model}-1layer']['losses'],\n",
        "             label=f'LSTM (Test: {results[f\"{lstm_model}-1layer\"][\"test_acc\"]:.1f}%)',\n",
        "             linewidth=2)\n",
        "    ax1.plot(steps, results[f'{lstmv2_model}-1layer']['losses'],\n",
        "             label=f'LSTMv2 (Test: {results[f\"{lstmv2_model}-1layer\"][\"test_acc\"]:.1f}%)',\n",
        "             linewidth=2)\n",
        "    ax1.set_title('Training Loss (1 Layer)', fontsize=12, pad=15)\n",
        "    ax1.set_xlabel('Training Steps', fontsize=10)\n",
        "    ax1.set_ylabel('Loss', fontsize=10)\n",
        "    ax1.grid(True, alpha=0.3)\n",
        "    ax1.legend(fontsize=9)\n",
        "\n",
        "    # Plot 3-layer results\n",
        "    ax2.plot(steps, results[f'{lstm_model}-3layer']['losses'],\n",
        "             label=f'LSTM (Test: {results[f\"{lstm_model}-3layer\"][\"test_acc\"]:.1f}%)',\n",
        "             linewidth=2)\n",
        "    ax2.plot(steps, results[f'{lstmv2_model}-3layer']['losses'],\n",
        "             label=f'LSTMv2 (Test: {results[f\"{lstmv2_model}-3layer\"][\"test_acc\"]:.1f}%)',\n",
        "             linewidth=2)\n",
        "    ax2.set_title('Training Loss (3 Layers)', fontsize=12, pad=15)\n",
        "    ax2.set_xlabel('Training Steps', fontsize=10)\n",
        "    ax2.set_ylabel('Loss', fontsize=10)\n",
        "    ax2.grid(True, alpha=0.3)\n",
        "    ax2.legend(fontsize=9)\n",
        "\n",
        "    plt.suptitle('LSTM vs LSTMv2 Training Loss Comparison\\n(l_noise=256)',\n",
        "                fontsize=14, y=1.05)\n",
        "    plt.tight_layout()\n",
        "\n",
        "    # Save the plot\n",
        "    plt.savefig('lstm_comparison.png', dpi=300, bbox_inches='tight')\n",
        "    plt.show()\n",
        "\n",
        "    # Return results for analysis\n",
        "    return results\n"
      ],
      "metadata": {
        "id": "hj8jAUPu00yx"
      },
      "execution_count": 17,
      "outputs": []
    },
    {
      "cell_type": "code",
      "source": [
        "# Run the analysis\n",
        "results = plot_training_curves()\n",
        "\n",
        "# Print tabulated results\n",
        "from tabulate import tabulate\n",
        "\n",
        "headers = [\"Model\", \"Layers\", \"Test Accuracy (%)\", \"Final Training Loss\"]\n",
        "table_data = []\n",
        "for model in [\"LSTM\", \"LSTMv2\"]:\n",
        "    for layers in [1, 3]:\n",
        "        key = f\"{model}-{layers}layer\"\n",
        "        table_data.append([\n",
        "            model,\n",
        "            layers,\n",
        "            f\"{results[key]['test_acc']:.2f}\",\n",
        "            f\"{results[key]['losses'][-1]:.4f}\"\n",
        "        ])\n",
        "\n",
        "print(\"\\nPerformance Summary:\")\n",
        "print(tabulate(table_data, headers=headers, tablefmt=\"grid\"))"
      ],
      "metadata": {
        "id": "cjA05OCK0_H8",
        "colab": {
          "base_uri": "https://localhost:8080/",
          "height": 552
        },
        "outputId": "e8cbc78f-3698-41d2-de5b-8a9bd80ba3b4"
      },
      "execution_count": 18,
      "outputs": [
        {
          "output_type": "display_data",
          "data": {
            "text/plain": [
              "<Figure size 1500x600 with 2 Axes>"
            ],
            "image/png": "[encoded data removed]"
          },
          "metadata": {}
        }
      ]
    }
  ],
  "metadata": {
    "colab": {
      "provenance": [],
      "gpuType": "T4",
      "include_colab_link": true
    },
    "kernelspec": {
      "display_name": "Python 3",
      "name": "python3"
    },
    "language_info": {
      "codemirror_mode": {
        "name": "ipython",
        "version": 3
      },
      "file_extension": ".py",
      "mimetype": "text/x-python",
      "name": "python",
      "nbconvert_exporter": "python",
      "pygments_lexer": "ipython3",
      "version": "3.9.13"
    },
    "accelerator": "GPU"
  },
  "nbformat": 4,
  "nbformat_minor": 0
}